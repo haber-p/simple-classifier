{
 "cells": [
  {
   "cell_type": "markdown",
   "id": "hungry-foundation",
   "metadata": {},
   "source": [
    "The code to create random shapes at the beginning comes form https://github.com/jrieke/shape-detection"
   ]
  },
  {
   "cell_type": "code",
   "execution_count": 2,
   "id": "binding-thread",
   "metadata": {},
   "outputs": [],
   "source": [
    "import numpy as np\n",
    "import matplotlib.pyplot as plt\n",
    "import matplotlib\n",
    "%matplotlib inline\n",
    "import tensorflow as tf"
   ]
  },
  {
   "cell_type": "code",
   "execution_count": 3,
   "id": "afraid-malawi",
   "metadata": {},
   "outputs": [],
   "source": [
    "import cairo\n",
    "\n",
    "num_imgs = 50000\n",
    "\n",
    "img_size = 32\n",
    "min_object_size = 4\n",
    "max_object_size = 16\n",
    "num_objects = 1\n",
    "\n",
    "bboxes = np.zeros((num_imgs, num_objects, 4)) \n",
    "imgs = np.zeros((num_imgs, img_size, img_size, 4), dtype=np.uint8) \n",
    "shapes = np.zeros((num_imgs, num_objects), dtype=int)\n",
    "\n",
    "num_shapes = 3\n",
    "shape_labels = ['rectangle', 'circle', 'triangle']\n",
    "colors = np.zeros((num_imgs, num_objects), dtype=int)\n",
    "num_colors = 3\n",
    "color_labels = ['b', 'g', 'r']"
   ]
  },
  {
   "cell_type": "code",
   "execution_count": 4,
   "id": "hungry-computer",
   "metadata": {},
   "outputs": [],
   "source": [
    "for i_img in range(num_imgs): \n",
    "    \n",
    "    surface = cairo.ImageSurface.create_for_data(imgs[i_img], cairo.FORMAT_ARGB32, img_size, img_size)\n",
    "    cr = cairo.Context(surface) \n",
    "\n",
    "    cr.set_source_rgb(1, 1, 1)\n",
    "    cr.paint()\n",
    "    \n",
    "    for i_object in range(num_objects):          \n",
    "        shape = np.random.randint(num_shapes)    \n",
    "        shapes[i_img, i_object] = shape         \n",
    "        \n",
    "        if shape == 0:  # rectangle\n",
    "            w, h = np.random.randint(min_object_size, max_object_size, size=2)  \n",
    "            x = np.random.randint(0, img_size - w)                               \n",
    "            y = np.random.randint(0, img_size - h)\n",
    "            bboxes[i_img, i_object] = [x, y, w, h]                               \n",
    "            cr.rectangle(x, y, w, h)                                            \n",
    "            \n",
    "        elif shape == 1:  # circle   \n",
    "            r = 0.5 * np.random.randint(min_object_size, max_object_size)\n",
    "            x = np.random.randint(r, img_size - r)\n",
    "            y = np.random.randint(r, img_size - r)\n",
    "            bboxes[i_img, i_object] = [x - r, y - r, 2 * r, 2 * r]\n",
    "            cr.arc(x, y, r, 0, 2*np.pi)     \n",
    "            \n",
    "        elif shape == 2:  # triangle\n",
    "            w, h = np.random.randint(min_object_size, max_object_size, size=2)\n",
    "            x = np.random.randint(0, img_size - w)\n",
    "            y = np.random.randint(0, img_size - h)\n",
    "            bboxes[i_img, i_object] = [x, y, w, h]\n",
    "            cr.move_to(x, y)\n",
    "            cr.line_to(x+w, y)\n",
    "            cr.line_to(x+w, y+h)\n",
    "            cr.line_to(x, y)\n",
    "            cr.close_path()\n",
    "            \n",
    "        cr.set_source_rgb(0, 0, 0)\n",
    "        cr.fill()"
   ]
  },
  {
   "cell_type": "code",
   "execution_count": 5,
   "id": "relevant-confidence",
   "metadata": {},
   "outputs": [
    {
     "data": {
      "image/png": "[encoded data removed]",
      "text/plain": [
       "<Figure size 432x288 with 1 Axes>"
      ]
     },
     "metadata": {
      "needs_background": "light"
     },
     "output_type": "display_data"
    }
   ],
   "source": [
    "i = np.random.randint(num_imgs)\n",
    "\n",
    "plt.imshow(imgs[i])\n",
    "\n",
    "for bbox, shape, color in zip(bboxes[i], shapes[i], colors[i]):\n",
    "    plt.gca().add_patch(matplotlib.patches.Rectangle((bbox[0], bbox[1]), bbox[2], bbox[3], ec='k', fc='none'))\n",
    "    plt.annotate(shape_labels[shape], (bbox[0], bbox[1] + bbox[3] + 1.5), color=color_labels[color], clip_on=False)\n"
   ]
  },
  {
   "cell_type": "code",
   "execution_count": 6,
   "id": "gothic-bangladesh",
   "metadata": {},
   "outputs": [
    {
     "data": {
      "text/plain": [
       "((50000, 32, 32), 0.4281356501991429, 0.2504054976339165)"
      ]
     },
     "execution_count": 6,
     "metadata": {},
     "output_type": "execute_result"
    }
   ],
   "source": [
    "X = (imgs - 128.) / 255.\n",
    "X = X[:,:,:,0]\n",
    "X.shape, np.mean(X), np.std(X)"
   ]
  },
  {
   "cell_type": "code",
   "execution_count": 7,
   "id": "biological-exhibit",
   "metadata": {},
   "outputs": [
    {
     "data": {
      "text/plain": [
       "array([2, 1, 1, ..., 2, 0, 1])"
      ]
     },
     "execution_count": 7,
     "metadata": {},
     "output_type": "execute_result"
    }
   ],
   "source": [
    "labels = shapes.reshape(-1)\n",
    "labels"
   ]
  },
  {
   "cell_type": "code",
   "execution_count": 8,
   "id": "enormous-assault",
   "metadata": {},
   "outputs": [
    {
     "data": {
      "text/plain": [
       "array([[0., 0., 1.],\n",
       "       [0., 1., 0.],\n",
       "       [0., 1., 0.],\n",
       "       [1., 0., 0.],\n",
       "       [1., 0., 0.],\n",
       "       [0., 0., 1.],\n",
       "       [1., 0., 0.],\n",
       "       [0., 1., 0.],\n",
       "       [0., 1., 0.],\n",
       "       [0., 0., 1.]], dtype=float32)"
      ]
     },
     "execution_count": 8,
     "metadata": {},
     "output_type": "execute_result"
    }
   ],
   "source": [
    "from tensorflow.keras.utils import to_categorical\n",
    "\n",
    "labels = to_categorical(labels)\n",
    "labels[:10, :]"
   ]
  },
  {
   "cell_type": "code",
   "execution_count": 9,
   "id": "passing-breath",
   "metadata": {},
   "outputs": [],
   "source": [
    "i = int(0.8 * num_imgs)\n",
    "train_X = X[:i]\n",
    "test_X = X[i:]\n",
    "train_y = labels[:i]\n",
    "test_y = labels[i:]\n",
    "test_imgs = imgs[i:]\n",
    "test_bboxes = bboxes[i:]"
   ]
  },
  {
   "cell_type": "markdown",
   "id": "dangerous-crossing",
   "metadata": {},
   "source": [
    "## MLP "
   ]
  },
  {
   "cell_type": "code",
   "execution_count": 10,
   "id": "controlled-pound",
   "metadata": {},
   "outputs": [],
   "source": [
    "mlp_model = tf.keras.Sequential([\n",
    "    tf.keras.layers.Flatten(input_shape=(32, 32)),\n",
    "    tf.keras.layers.Dense(128, activation='relu'),  \n",
    "    tf.keras.layers.Dense(64, activation='relu'),\n",
    "    tf.keras.layers.Dense(3)                \n",
    "])"
   ]
  },
  {
   "cell_type": "code",
   "execution_count": 11,
   "id": "identical-brunswick",
   "metadata": {},
   "outputs": [],
   "source": [
    "opt = tf.keras.optimizers.SGD(learning_rate=0.01)   \n",
    "xentropy_loss = tf.keras.losses.CategoricalCrossentropy(from_logits=True)"
   ]
  },
  {
   "cell_type": "code",
   "execution_count": 12,
   "id": "native-syndicate",
   "metadata": {},
   "outputs": [],
   "source": [
    "mlp_model.compile(optimizer=opt, loss=xentropy_loss, metrics=['accuracy'])"
   ]
  },
  {
   "cell_type": "code",
   "execution_count": 13,
   "id": "transparent-professional",
   "metadata": {},
   "outputs": [
    {
     "name": "stdout",
     "output_type": "stream",
     "text": [
      "Epoch 1/10\n",
      "625/625 [==============================] - 1s 857us/step - loss: 1.0006 - accuracy: 0.4737\n",
      "Epoch 2/10\n",
      "625/625 [==============================] - 1s 921us/step - loss: 0.9369 - accuracy: 0.5268\n",
      "Epoch 3/10\n",
      "625/625 [==============================] - 1s 913us/step - loss: 0.8965 - accuracy: 0.5628\n",
      "Epoch 4/10\n",
      "625/625 [==============================] - 1s 980us/step - loss: 0.8566 - accuracy: 0.5973\n",
      "Epoch 5/10\n",
      "625/625 [==============================] - 1s 922us/step - loss: 0.8110 - accuracy: 0.6327\n",
      "Epoch 6/10\n",
      "625/625 [==============================] - 1s 882us/step - loss: 0.7559 - accuracy: 0.6722\n",
      "Epoch 7/10\n",
      "625/625 [==============================] - 1s 889us/step - loss: 0.7078 - accuracy: 0.6951\n",
      "Epoch 8/10\n",
      "625/625 [==============================] - 1s 892us/step - loss: 0.6508 - accuracy: 0.7245\n",
      "Epoch 9/10\n",
      "625/625 [==============================] - 1s 898us/step - loss: 0.5973 - accuracy: 0.7491\n",
      "Epoch 10/10\n",
      "625/625 [==============================] - 1s 906us/step - loss: 0.5551 - accuracy: 0.7667\n"
     ]
    },
    {
     "data": {
      "text/plain": [
       "<tensorflow.python.keras.callbacks.History at 0x1e5d7466508>"
      ]
     },
     "execution_count": 13,
     "metadata": {},
     "output_type": "execute_result"
    }
   ],
   "source": [
    "mlp_model.fit(train_X, train_y, batch_size = 64, epochs=10)"
   ]
  },
  {
   "cell_type": "code",
   "execution_count": 14,
   "id": "rural-silly",
   "metadata": {},
   "outputs": [
    {
     "name": "stdout",
     "output_type": "stream",
     "text": [
      "313/313 - 0s - loss: 0.5436 - accuracy: 0.7755\n"
     ]
    }
   ],
   "source": [
    "mlp_model.evaluate(test_X,  test_y, verbose=2);"
   ]
  },
  {
   "cell_type": "code",
   "execution_count": 15,
   "id": "possible-plenty",
   "metadata": {},
   "outputs": [],
   "source": [
    "pred_y = mlp_model.predict(test_X)"
   ]
  },
  {
   "cell_type": "code",
   "execution_count": 28,
   "id": "going-reservation",
   "metadata": {},
   "outputs": [],
   "source": [
    "def decode_label(vector):\n",
    "    index = np.argmax(vector)\n",
    "    return shape_labels[index]"
   ]
  },
  {
   "cell_type": "code",
   "execution_count": 32,
   "id": "distributed-astrology",
   "metadata": {},
   "outputs": [
    {
     "data": {
      "image/png": "[encoded data removed]",
      "text/plain": [
       "<Figure size 1152x576 with 8 Axes>"
      ]
     },
     "metadata": {
      "needs_background": "light"
     },
     "output_type": "display_data"
    }
   ],
   "source": [
    "plt.figure(figsize=(16, 8))\n",
    "for i_subplot in range(1, 9):\n",
    "    plt.subplot(2, 4, i_subplot)\n",
    "    i = np.random.randint(len(test_X))\n",
    "    plt.imshow(test_imgs[i], interpolation='none', origin='lower', extent=[0, img_size, 0, img_size])\n",
    "    plt.title(decode_label(pred_y[i]))"
   ]
  },
  {
   "cell_type": "markdown",
   "id": "arranged-technician",
   "metadata": {},
   "source": [
    "## CNN"
   ]
  },
  {
   "cell_type": "code",
   "execution_count": 18,
   "id": "directed-armstrong",
   "metadata": {},
   "outputs": [
    {
     "data": {
      "text/plain": [
       "(50000, 4, 32, 32)"
      ]
     },
     "execution_count": 18,
     "metadata": {},
     "output_type": "execute_result"
    }
   ],
   "source": [
    "X = (imgs - 128.) / 255.\n",
    "X = X.transpose(0,3,1,2)\n",
    "X.shape"
   ]
  },
  {
   "cell_type": "code",
   "execution_count": 19,
   "id": "promising-assignment",
   "metadata": {},
   "outputs": [],
   "source": [
    "i = int(0.8 * num_imgs)\n",
    "train_X = X[:i]\n",
    "test_X = X[i:]\n",
    "train_y = labels[:i]\n",
    "test_y = labels[i:]\n",
    "test_imgs = imgs[i:]\n",
    "test_bboxes = bboxes[i:]"
   ]
  },
  {
   "cell_type": "code",
   "execution_count": 20,
   "id": "eleven-rubber",
   "metadata": {},
   "outputs": [],
   "source": [
    "cnn_model = tf.keras.Sequential([\n",
    "    tf.keras.layers.Conv2D(filters=4, kernel_size=(3,3), strides=(2,2), padding = 'same', activation = 'relu'), \n",
    "    tf.keras.layers.BatchNormalization(),   \n",
    "    tf.keras.layers.Conv2D(filters=8, kernel_size=(3,3), strides=(2,2), padding = 'same', activation = 'relu'),  \n",
    "    tf.keras.layers.BatchNormalization(),  \n",
    "    tf.keras.layers.Flatten(input_shape=(8,8,8)),\n",
    "    tf.keras.layers.Dense(3)\n",
    "    \n",
    "])"
   ]
  },
  {
   "cell_type": "code",
   "execution_count": 21,
   "id": "bridal-machinery",
   "metadata": {},
   "outputs": [],
   "source": [
    "opt = tf.keras.optimizers.SGD(learning_rate=0.1)\n",
    "xentropy_loss = tf.keras.losses.CategoricalCrossentropy(from_logits=True)"
   ]
  },
  {
   "cell_type": "code",
   "execution_count": 22,
   "id": "contemporary-consolidation",
   "metadata": {},
   "outputs": [],
   "source": [
    "cnn_model.compile(optimizer=opt, loss=xentropy_loss, metrics=['accuracy'])"
   ]
  },
  {
   "cell_type": "code",
   "execution_count": 23,
   "id": "verbal-vaccine",
   "metadata": {},
   "outputs": [
    {
     "name": "stdout",
     "output_type": "stream",
     "text": [
      "Epoch 1/5\n",
      "313/313 [==============================] - 2s 7ms/step - loss: 0.8641 - accuracy: 0.5796\n",
      "Epoch 2/5\n",
      "313/313 [==============================] - 2s 7ms/step - loss: 0.4410 - accuracy: 0.8183\n",
      "Epoch 3/5\n",
      "313/313 [==============================] - 2s 7ms/step - loss: 0.1672 - accuracy: 0.9473\n",
      "Epoch 4/5\n",
      "313/313 [==============================] - 2s 7ms/step - loss: 0.0844 - accuracy: 0.9763\n",
      "Epoch 5/5\n",
      "313/313 [==============================] - 2s 7ms/step - loss: 0.0576 - accuracy: 0.9844\n"
     ]
    }
   ],
   "source": [
    "cnn_model.fit(train_X, train_y, batch_size=128, epochs=5)"
   ]
  },
  {
   "cell_type": "code",
   "execution_count": 24,
   "id": "handy-theater",
   "metadata": {},
   "outputs": [
    {
     "name": "stdout",
     "output_type": "stream",
     "text": [
      "313/313 - 0s - loss: 0.0630 - accuracy: 0.9855\n"
     ]
    },
    {
     "data": {
      "text/plain": [
       "[0.06298983097076416, 0.9854999780654907]"
      ]
     },
     "execution_count": 24,
     "metadata": {},
     "output_type": "execute_result"
    }
   ],
   "source": [
    "cnn_model.evaluate(test_X,  test_y, verbose=2)"
   ]
  },
  {
   "cell_type": "markdown",
   "id": "dressed-election",
   "metadata": {},
   "source": [
    "### Plots"
   ]
  },
  {
   "cell_type": "code",
   "execution_count": 25,
   "id": "tribal-assumption",
   "metadata": {},
   "outputs": [
    {
     "data": {
      "text/plain": [
       "array([ 1.1883708, -3.2599702,  5.932157 ], dtype=float32)"
      ]
     },
     "execution_count": 25,
     "metadata": {},
     "output_type": "execute_result"
    }
   ],
   "source": [
    "pred_y = cnn_model.predict(test_X)\n",
    "pred_y[0]"
   ]
  },
  {
   "cell_type": "code",
   "execution_count": 26,
   "id": "israeli-melbourne",
   "metadata": {},
   "outputs": [
    {
     "data": {
      "image/png": "[encoded data removed]",
      "text/plain": [
       "<Figure size 1152x576 with 8 Axes>"
      ]
     },
     "metadata": {
      "needs_background": "light"
     },
     "output_type": "display_data"
    }
   ],
   "source": [
    "plt.figure(figsize=(16, 8))\n",
    "for i_subplot in range(1, 9):\n",
    "    plt.subplot(2, 4, i_subplot)\n",
    "    i = np.random.randint(len(test_X))\n",
    "    plt.imshow(test_imgs[i], interpolation='none', origin='lower', extent=[0, img_size, 0, img_size])\n",
    "    plt.title(decode_label(pred_y[i]))"
   ]
  },
  {
   "cell_type": "markdown",
   "id": "structural-venue",
   "metadata": {},
   "source": [
    "----------------------------------------------------------------------"
   ]
  }
 ],
 "metadata": {
  "kernelspec": {
   "display_name": "Python 3",
   "language": "python",
   "name": "python3"
  },
  "language_info": {
   "codemirror_mode": {
    "name": "ipython",
    "version": 3
   },
   "file_extension": ".py",
   "mimetype": "text/x-python",
   "name": "python",
   "nbconvert_exporter": "python",
   "pygments_lexer": "ipython3",
   "version": "3.7.9"
  }
 },
 "nbformat": 4,
 "nbformat_minor": 5
}
